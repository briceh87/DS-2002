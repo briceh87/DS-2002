{
 "cells": [
  {
   "cell_type": "markdown",
   "id": "5b0fd2a7",
   "metadata": {},
   "source": [
    "## Using Python to Integrate MongoDB Data into an ETL Process\n",
    "Modern Data Warehousing and Analytics solutions frequently use languages like Python or Scala to extract data from numerous sources, including relational database management systems, NoSQL database systems, real-time streaming endpoints and Data Lakes. These languages can then be used to perform many types of transformation before then loading the data into a variety of destinations including file systems and data warehouses. This data can then be consumed by data scientists or business analysts.\n",
    "\n",
    "In this lab you will build upon the **Northwind_DW2** dimensional database from Lab 3; however, you will be integrating new data sourced from an instance of MongoDB. The new data will be concerned with new business processes; inventory and purchasing. You will continue to interact with both the source systems (MongoDB and MySQL), and the destination system (the Northwind_DW2 data warehouse) from a remote client running Python (Jupyter Notebooks). \n",
    "\n",
    "Just as in Lab 3, you will fetch data into Pandas DataFrames, perform all the necessary transformations in-memory on the client, and then push the newly transformed DataFrame to the RDBMS data warehouse using a Pandas function that will create the table and fill it with data with a single operation.\n",
    "\n",
    "### Prerequisites:\n",
    "This notebook uses the PyMongo database connectivity library to connect to MySQL databases; therefore, you must have first installed that libary into your python environment by executing the following command in a Terminal window.\n",
    "\n",
    "- `python -m pip install pymongo[srv]`\n",
    "\n",
    "#### Import the Necessary Libraries"
   ]
  },
  {
   "cell_type": "code",
   "execution_count": 15,
   "id": "e8b95ba5",
   "metadata": {},
   "outputs": [],
   "source": [
    "import os\n",
    "import json\n",
    "import numpy\n",
    "import datetime\n",
    "import certifi\n",
    "import pandas as pd\n",
    "\n",
    "import pymongo\n",
    "import sqlalchemy\n",
    "from sqlalchemy import create_engine, text"
   ]
  },
  {
   "cell_type": "code",
   "execution_count": 33,
   "id": "6d7f6f0b",
   "metadata": {},
   "outputs": [
    {
     "name": "stdout",
     "output_type": "stream",
     "text": [
      "Running SQL Alchemy Version: 2.0.38\n",
      "Running PyMongo Version: 4.11.2\n"
     ]
    }
   ],
   "source": [
    "print(f\"Running SQL Alchemy Version: {sqlalchemy.__version__}\")\n",
    "print(f\"Running PyMongo Version: {pymongo.__version__}\")"
   ]
  },
  {
   "cell_type": "markdown",
   "id": "23c629e4",
   "metadata": {},
   "source": [
    "#### Declare & Assign Connection Variables for the MongoDB Server, the MySQL Server & Databases with which You'll be Working "
   ]
  },
  {
   "cell_type": "code",
   "execution_count": 34,
   "id": "28890801",
   "metadata": {},
   "outputs": [],
   "source": [
    "mysql_args = {\n",
    "    \"uid\" : \"bhowe\",\n",
    "    \"pwd\" : \"Daufuskie1\",\n",
    "    \"hostname\" : \"localhost\",\n",
    "    \"dbname\" : \"northwind_dw2\"\n",
    "}\n",
    "\n",
    "# The 'cluster_location' must either be \"atlas\" or \"local\".\n",
    "mongodb_args = {\n",
    "    \"user_name\" : \"nkr7fg\",\n",
    "    \"password\" : \"Daufuskie1\",\n",
    "    \"cluster_name\" : \"ds2002\",\n",
    "    \"cluster_subnet\" : \"zsrbu\",\n",
    "    \"cluster_location\" : \"atlas\", # \"local\"\n",
    "    \"db_name\" : \"northwind_purchasing\"\n",
    "}"
   ]
  },
  {
   "cell_type": "markdown",
   "id": "21928a06",
   "metadata": {},
   "source": [
    "#### Define Functions for Getting Data From and Setting Data Into Databases"
   ]
  },
  {
   "cell_type": "code",
   "execution_count": 35,
   "id": "eabb5f6a",
   "metadata": {},
   "outputs": [],
   "source": [
    "def get_sql_dataframe(sql_query, **args):\n",
    "    '''Create a connection to the MySQL database'''\n",
    "    conn_str = f\"mysql+pymysql://{args['uid']}:{args['pwd']}@{args['hostname']}/{args['dbname']}\"\n",
    "    sqlEngine = create_engine(conn_str, pool_recycle=3600)\n",
    "    connection = sqlEngine.connect()\n",
    "    \n",
    "    '''Invoke the pd.read_sql() function to query the database, and fill a Pandas DataFrame.'''\n",
    "    dframe = pd.read_sql(text(sql_query), connection);\n",
    "    connection.close()\n",
    "    \n",
    "    return dframe\n",
    "    \n",
    "\n",
    "def set_dataframe(df, table_name, pk_column, db_operation, **args):\n",
    "    '''Create a connection to the MySQL database'''\n",
    "    conn_str = f\"mysql+pymysql://{args['uid']}:{args['pwd']}@{args['hostname']}/{args['dbname']}\"\n",
    "    sqlEngine = create_engine(conn_str, pool_recycle=3600)\n",
    "    connection = sqlEngine.connect()\n",
    "    \n",
    "    '''Invoke the Pandas DataFrame .to_sql( ) function to either create, or append to, a table'''\n",
    "    if db_operation == \"insert\":\n",
    "        df.to_sql(table_name, con=connection, index=False, if_exists='replace')\n",
    "        connection.execute(text(f\"ALTER TABLE {table_name} ADD PRIMARY KEY ({pk_column});\"))\n",
    "            \n",
    "    elif db_operation == \"update\":\n",
    "        df.to_sql(table_name, con=connection, index=False, if_exists='append')\n",
    "    \n",
    "    connection.close()\n",
    "\n",
    "\n",
    "def get_mongo_client(**args):\n",
    "    '''Validate proper input'''\n",
    "    if args[\"cluster_location\"] not in ['atlas', 'local']:\n",
    "        raise Exception(\"You must specify either 'atlas' or 'local' for the cluster_location parameter.\")\n",
    "    \n",
    "    else:\n",
    "        if args[\"cluster_location\"] == \"atlas\":\n",
    "            connect_str = f\"mongodb+srv://{args['user_name']}:{args['password']}@\"\n",
    "            connect_str += f\"{args['cluster_name']}.{args['cluster_subnet']}.mongodb.net\"\n",
    "            client = pymongo.MongoClient(connect_str, tlsCAFile=certifi.where())\n",
    "            \n",
    "        elif args[\"cluster_location\"] == \"local\":\n",
    "            client = pymongo.MongoClient(\"mongodb://localhost:27017/\")\n",
    "        \n",
    "    return client\n",
    "\n",
    "\n",
    "def get_mongo_dataframe(mongo_client, db_name, collection, query):\n",
    "    '''Query MongoDB, and fill a python list with documents to create a DataFrame'''\n",
    "    db = mongo_client[db_name]\n",
    "    dframe = pd.DataFrame(list(db[collection].find(query)))\n",
    "    dframe.drop(['_id'], axis=1, inplace=True)\n",
    "    mongo_client.close()\n",
    "    \n",
    "    return dframe\n",
    "\n",
    "\n",
    "def set_mongo_collections(mongo_client, db_name, data_directory, json_files):\n",
    "    db = mongo_client[db_name]\n",
    "    \n",
    "    for file in json_files:\n",
    "        db.drop_collection(file)\n",
    "        json_file = os.path.join(data_directory, json_files[file])\n",
    "        with open(json_file, 'r') as openfile:\n",
    "            json_object = json.load(openfile)\n",
    "            file = db[file]\n",
    "            result = file.insert_many(json_object)\n",
    "        \n",
    "    mongo_client.close()"
   ]
  },
  {
   "cell_type": "markdown",
   "id": "9a7a3a43",
   "metadata": {},
   "source": [
    "#### Populate MongoDB with Source Data\n",
    "You only need to run this cell once; however, the operation is *idempotent*.  In other words, it can be run multiple times without changing the end result."
   ]
  },
  {
   "cell_type": "code",
   "execution_count": 36,
   "id": "9772c78a",
   "metadata": {},
   "outputs": [],
   "source": [
    "client = get_mongo_client(**mongodb_args)\n",
    "\n",
    "# Gets the path of the Current Working Directory for this Notebook,\n",
    "# and then Appends the 'data' directory.\n",
    "data_dir = os.path.join(os.getcwd(), 'data')\n",
    "\n",
    "json_files = {\"suppliers\" : 'northwind_suppliers.json',\n",
    "              \"invoices\" : 'northwind_invoices.json',\n",
    "              \"purchase_orders\" : 'northwind_purchase_orders.json',\n",
    "              \"inventory_transactions\" : 'northwind_inventory_transactions.json'\n",
    "             }\n",
    "\n",
    "set_mongo_collections(client, mongodb_args[\"db_name\"], data_dir, json_files)         "
   ]
  },
  {
   "cell_type": "markdown",
   "id": "41747a78",
   "metadata": {},
   "source": [
    "### 1.0. Create and Populate the New Dimension Tables\n",
    "#### 1.1. Extract Data from the Source MongoDB Collections Into DataFrames"
   ]
  },
  {
   "cell_type": "code",
   "execution_count": 37,
   "id": "5d79acc8",
   "metadata": {
    "scrolled": true
   },
   "outputs": [
    {
     "data": {
      "text/html": [
       "<div>\n",
       "<style scoped>\n",
       "    .dataframe tbody tr th:only-of-type {\n",
       "        vertical-align: middle;\n",
       "    }\n",
       "\n",
       "    .dataframe tbody tr th {\n",
       "        vertical-align: top;\n",
       "    }\n",
       "\n",
       "    .dataframe thead th {\n",
       "        text-align: right;\n",
       "    }\n",
       "</style>\n",
       "<table border=\"1\" class=\"dataframe\">\n",
       "  <thead>\n",
       "    <tr style=\"text-align: right;\">\n",
       "      <th></th>\n",
       "      <th>id</th>\n",
       "      <th>order_id</th>\n",
       "      <th>invoice_date</th>\n",
       "      <th>due_date</th>\n",
       "      <th>tax</th>\n",
       "      <th>shipping</th>\n",
       "      <th>amount_due</th>\n",
       "    </tr>\n",
       "  </thead>\n",
       "  <tbody>\n",
       "    <tr>\n",
       "      <th>0</th>\n",
       "      <td>5</td>\n",
       "      <td>31</td>\n",
       "      <td>2006-03-22 16:08:59</td>\n",
       "      <td>None</td>\n",
       "      <td>0.0</td>\n",
       "      <td>0.0</td>\n",
       "      <td>0.0</td>\n",
       "    </tr>\n",
       "    <tr>\n",
       "      <th>1</th>\n",
       "      <td>6</td>\n",
       "      <td>32</td>\n",
       "      <td>2006-03-22 16:10:27</td>\n",
       "      <td>None</td>\n",
       "      <td>0.0</td>\n",
       "      <td>0.0</td>\n",
       "      <td>0.0</td>\n",
       "    </tr>\n",
       "  </tbody>\n",
       "</table>\n",
       "</div>"
      ],
      "text/plain": [
       "   id  order_id         invoice_date due_date  tax  shipping  amount_due\n",
       "0   5        31  2006-03-22 16:08:59     None  0.0       0.0         0.0\n",
       "1   6        32  2006-03-22 16:10:27     None  0.0       0.0         0.0"
      ]
     },
     "execution_count": 37,
     "metadata": {},
     "output_type": "execute_result"
    }
   ],
   "source": [
    "client = get_mongo_client(**mongodb_args)\n",
    "\n",
    "query = {} # Select all elements (columns), and all documents (rows).\n",
    "collection = \"invoices\"\n",
    "\n",
    "df_invoices = get_mongo_dataframe(client, mongodb_args[\"db_name\"], collection, query)\n",
    "df_invoices.head(2)"
   ]
  },
  {
   "cell_type": "code",
   "execution_count": 38,
   "id": "a4957b66",
   "metadata": {},
   "outputs": [
    {
     "data": {
      "text/html": [
       "<div>\n",
       "<style scoped>\n",
       "    .dataframe tbody tr th:only-of-type {\n",
       "        vertical-align: middle;\n",
       "    }\n",
       "\n",
       "    .dataframe tbody tr th {\n",
       "        vertical-align: top;\n",
       "    }\n",
       "\n",
       "    .dataframe thead th {\n",
       "        text-align: right;\n",
       "    }\n",
       "</style>\n",
       "<table border=\"1\" class=\"dataframe\">\n",
       "  <thead>\n",
       "    <tr style=\"text-align: right;\">\n",
       "      <th></th>\n",
       "      <th>id</th>\n",
       "      <th>company</th>\n",
       "      <th>last_name</th>\n",
       "      <th>first_name</th>\n",
       "      <th>job_title</th>\n",
       "    </tr>\n",
       "  </thead>\n",
       "  <tbody>\n",
       "    <tr>\n",
       "      <th>0</th>\n",
       "      <td>1</td>\n",
       "      <td>Supplier A</td>\n",
       "      <td>Andersen</td>\n",
       "      <td>Elizabeth A.</td>\n",
       "      <td>Sales Manager</td>\n",
       "    </tr>\n",
       "    <tr>\n",
       "      <th>1</th>\n",
       "      <td>2</td>\n",
       "      <td>Supplier B</td>\n",
       "      <td>Weiler</td>\n",
       "      <td>Cornelia</td>\n",
       "      <td>Sales Manager</td>\n",
       "    </tr>\n",
       "  </tbody>\n",
       "</table>\n",
       "</div>"
      ],
      "text/plain": [
       "   id     company last_name    first_name      job_title\n",
       "0   1  Supplier A  Andersen  Elizabeth A.  Sales Manager\n",
       "1   2  Supplier B    Weiler      Cornelia  Sales Manager"
      ]
     },
     "execution_count": 38,
     "metadata": {},
     "output_type": "execute_result"
    }
   ],
   "source": [
    "# TODO: Extract data from the \"Suppliers\" collection\n",
    "client = get_mongo_client(**mongodb_args)\n",
    "\n",
    "query = {} # Select all elements (columns), and all documents (rows).\n",
    "collection = \"suppliers\"\n",
    "\n",
    "df_suppliers = get_mongo_dataframe(client, mongodb_args[\"db_name\"], collection, query)\n",
    "df_suppliers.head(2)"
   ]
  },
  {
   "cell_type": "markdown",
   "id": "829c2715",
   "metadata": {},
   "source": [
    "#### 1.2. Lookup the Invoice Date Keys from the Date Dimension Table.\n",
    "Here we see an example of where a dimension cross-references another dimension; the Date dimension.  The Date dimension is a classic example of a **Role-Playing dimension**. Dates in-and-of themselves are universal; however, when applied to specific events they take on the identity of those events. Here, the *dim_date* table takes on the identity of *dim_invoice_date* to supply invoice date keys to the *dim_invoices* table.\n",
    "\n",
    "##### 1.2.1. Get the Data from the Date Dimension Table.\n",
    "First, fetch the Surrogate Primary Key (date_key) and the Business Key (full_date) from the Date Dimension table using the **get_sql_dataframe()** function. Be certain to cast the **full_date** column to the **datetime64[ns]** data type using the **.astype()** function that is native to Pandas DataFrame columns. Also, extract the **date** portion using the **.dt.date** attribute of the **datetime64[ns]** datatype."
   ]
  },
  {
   "cell_type": "code",
   "execution_count": 41,
   "id": "c2f7c6c0",
   "metadata": {},
   "outputs": [
    {
     "data": {
      "text/html": [
       "<div>\n",
       "<style scoped>\n",
       "    .dataframe tbody tr th:only-of-type {\n",
       "        vertical-align: middle;\n",
       "    }\n",
       "\n",
       "    .dataframe tbody tr th {\n",
       "        vertical-align: top;\n",
       "    }\n",
       "\n",
       "    .dataframe thead th {\n",
       "        text-align: right;\n",
       "    }\n",
       "</style>\n",
       "<table border=\"1\" class=\"dataframe\">\n",
       "  <thead>\n",
       "    <tr style=\"text-align: right;\">\n",
       "      <th></th>\n",
       "      <th>date_key</th>\n",
       "      <th>full_date</th>\n",
       "    </tr>\n",
       "  </thead>\n",
       "  <tbody>\n",
       "    <tr>\n",
       "      <th>0</th>\n",
       "      <td>20000101</td>\n",
       "      <td>2000-01-01</td>\n",
       "    </tr>\n",
       "    <tr>\n",
       "      <th>1</th>\n",
       "      <td>20000102</td>\n",
       "      <td>2000-01-02</td>\n",
       "    </tr>\n",
       "  </tbody>\n",
       "</table>\n",
       "</div>"
      ],
      "text/plain": [
       "   date_key   full_date\n",
       "0  20000101  2000-01-01\n",
       "1  20000102  2000-01-02"
      ]
     },
     "execution_count": 41,
     "metadata": {},
     "output_type": "execute_result"
    }
   ],
   "source": [
    "sql_dim_date = \"SELECT date_key, full_date FROM northwind_dw2.dim_date;\"\n",
    "df_dim_date = get_sql_dataframe(sql_dim_date, **mysql_args)\n",
    "df_dim_date.full_date = df_dim_date.full_date.astype('datetime64[ns]').dt.date\n",
    "df_dim_date.head(2)"
   ]
  },
  {
   "cell_type": "markdown",
   "id": "a47178c4",
   "metadata": {},
   "source": [
    "##### 1.2.2. Lookup the Surrogate Primary Key (date_key) that Corresponds to the invoice_date Column"
   ]
  },
  {
   "cell_type": "code",
   "execution_count": 42,
   "id": "65e7a695",
   "metadata": {},
   "outputs": [
    {
     "data": {
      "text/html": [
       "<div>\n",
       "<style scoped>\n",
       "    .dataframe tbody tr th:only-of-type {\n",
       "        vertical-align: middle;\n",
       "    }\n",
       "\n",
       "    .dataframe tbody tr th {\n",
       "        vertical-align: top;\n",
       "    }\n",
       "\n",
       "    .dataframe thead th {\n",
       "        text-align: right;\n",
       "    }\n",
       "</style>\n",
       "<table border=\"1\" class=\"dataframe\">\n",
       "  <thead>\n",
       "    <tr style=\"text-align: right;\">\n",
       "      <th></th>\n",
       "      <th>id</th>\n",
       "      <th>order_id</th>\n",
       "      <th>due_date</th>\n",
       "      <th>tax</th>\n",
       "      <th>shipping</th>\n",
       "      <th>amount_due</th>\n",
       "      <th>invoice_date_key</th>\n",
       "    </tr>\n",
       "  </thead>\n",
       "  <tbody>\n",
       "    <tr>\n",
       "      <th>0</th>\n",
       "      <td>5</td>\n",
       "      <td>31</td>\n",
       "      <td>None</td>\n",
       "      <td>0.0</td>\n",
       "      <td>0.0</td>\n",
       "      <td>0.0</td>\n",
       "      <td>20060322</td>\n",
       "    </tr>\n",
       "    <tr>\n",
       "      <th>1</th>\n",
       "      <td>6</td>\n",
       "      <td>32</td>\n",
       "      <td>None</td>\n",
       "      <td>0.0</td>\n",
       "      <td>0.0</td>\n",
       "      <td>0.0</td>\n",
       "      <td>20060322</td>\n",
       "    </tr>\n",
       "  </tbody>\n",
       "</table>\n",
       "</div>"
      ],
      "text/plain": [
       "   id  order_id due_date  tax  shipping  amount_due  invoice_date_key\n",
       "0   5        31     None  0.0       0.0         0.0          20060322\n",
       "1   6        32     None  0.0       0.0         0.0          20060322"
      ]
     },
     "execution_count": 42,
     "metadata": {},
     "output_type": "execute_result"
    }
   ],
   "source": [
    "df_dim_invoice_date = df_dim_date.rename(columns={\"date_key\" : \"invoice_date_key\", \"full_date\" : \"invoice_date\"})\n",
    "df_invoices.invoice_date = df_invoices.invoice_date.astype('datetime64[ns]').dt.date\n",
    "df_invoices = pd.merge(df_invoices, df_dim_invoice_date, on='invoice_date', how='left')\n",
    "df_invoices.drop(['invoice_date'], axis=1, inplace=True)\n",
    "df_invoices.head(2)"
   ]
  },
  {
   "cell_type": "markdown",
   "id": "10272202",
   "metadata": {},
   "source": [
    "#### 1.3. Perform Any Necessary Transformations to the DataFrames"
   ]
  },
  {
   "cell_type": "code",
   "execution_count": 43,
   "id": "6bb8e1e6",
   "metadata": {},
   "outputs": [
    {
     "data": {
      "text/html": [
       "<div>\n",
       "<style scoped>\n",
       "    .dataframe tbody tr th:only-of-type {\n",
       "        vertical-align: middle;\n",
       "    }\n",
       "\n",
       "    .dataframe tbody tr th {\n",
       "        vertical-align: top;\n",
       "    }\n",
       "\n",
       "    .dataframe thead th {\n",
       "        text-align: right;\n",
       "    }\n",
       "</style>\n",
       "<table border=\"1\" class=\"dataframe\">\n",
       "  <thead>\n",
       "    <tr style=\"text-align: right;\">\n",
       "      <th></th>\n",
       "      <th>invoice_key</th>\n",
       "      <th>invoice_id</th>\n",
       "      <th>order_id</th>\n",
       "      <th>tax</th>\n",
       "      <th>shipping</th>\n",
       "      <th>amount_due</th>\n",
       "      <th>invoice_date_key</th>\n",
       "    </tr>\n",
       "  </thead>\n",
       "  <tbody>\n",
       "    <tr>\n",
       "      <th>0</th>\n",
       "      <td>1</td>\n",
       "      <td>5</td>\n",
       "      <td>31</td>\n",
       "      <td>0.0</td>\n",
       "      <td>0.0</td>\n",
       "      <td>0.0</td>\n",
       "      <td>20060322</td>\n",
       "    </tr>\n",
       "    <tr>\n",
       "      <th>1</th>\n",
       "      <td>2</td>\n",
       "      <td>6</td>\n",
       "      <td>32</td>\n",
       "      <td>0.0</td>\n",
       "      <td>0.0</td>\n",
       "      <td>0.0</td>\n",
       "      <td>20060322</td>\n",
       "    </tr>\n",
       "  </tbody>\n",
       "</table>\n",
       "</div>"
      ],
      "text/plain": [
       "   invoice_key  invoice_id  order_id  tax  shipping  amount_due  \\\n",
       "0            1           5        31  0.0       0.0         0.0   \n",
       "1            2           6        32  0.0       0.0         0.0   \n",
       "\n",
       "   invoice_date_key  \n",
       "0          20060322  \n",
       "1          20060322  "
      ]
     },
     "execution_count": 43,
     "metadata": {},
     "output_type": "execute_result"
    }
   ],
   "source": [
    "# 1. Rename the \"id\" column to reflect the entity as it will serve as the business key for lookup operations\n",
    "df_invoices.rename(columns={\"id\":\"invoice_id\"}, inplace=True)\n",
    "\n",
    "# 2. Since there are no values in the 'due_date' column go ahead and drop it.\n",
    "df_invoices.drop(['due_date'], axis=1, inplace=True)\n",
    "\n",
    "# 3. Insert a new column, with an ever-incrementing numeric value, to serve as the primary key.\n",
    "df_invoices.insert(0, \"invoice_key\", range(1, df_invoices.shape[0]+1))\n",
    "df_invoices.head(2)"
   ]
  },
  {
   "cell_type": "code",
   "execution_count": 44,
   "id": "d84ba2db",
   "metadata": {},
   "outputs": [
    {
     "data": {
      "text/html": [
       "<div>\n",
       "<style scoped>\n",
       "    .dataframe tbody tr th:only-of-type {\n",
       "        vertical-align: middle;\n",
       "    }\n",
       "\n",
       "    .dataframe tbody tr th {\n",
       "        vertical-align: top;\n",
       "    }\n",
       "\n",
       "    .dataframe thead th {\n",
       "        text-align: right;\n",
       "    }\n",
       "</style>\n",
       "<table border=\"1\" class=\"dataframe\">\n",
       "  <thead>\n",
       "    <tr style=\"text-align: right;\">\n",
       "      <th></th>\n",
       "      <th>supplier_key</th>\n",
       "      <th>supplier_id</th>\n",
       "      <th>company</th>\n",
       "      <th>last_name</th>\n",
       "      <th>first_name</th>\n",
       "      <th>job_title</th>\n",
       "    </tr>\n",
       "  </thead>\n",
       "  <tbody>\n",
       "    <tr>\n",
       "      <th>0</th>\n",
       "      <td>1</td>\n",
       "      <td>1</td>\n",
       "      <td>Supplier A</td>\n",
       "      <td>Andersen</td>\n",
       "      <td>Elizabeth A.</td>\n",
       "      <td>Sales Manager</td>\n",
       "    </tr>\n",
       "    <tr>\n",
       "      <th>1</th>\n",
       "      <td>2</td>\n",
       "      <td>2</td>\n",
       "      <td>Supplier B</td>\n",
       "      <td>Weiler</td>\n",
       "      <td>Cornelia</td>\n",
       "      <td>Sales Manager</td>\n",
       "    </tr>\n",
       "  </tbody>\n",
       "</table>\n",
       "</div>"
      ],
      "text/plain": [
       "   supplier_key  supplier_id     company last_name    first_name  \\\n",
       "0             1            1  Supplier A  Andersen  Elizabeth A.   \n",
       "1             2            2  Supplier B    Weiler      Cornelia   \n",
       "\n",
       "       job_title  \n",
       "0  Sales Manager  \n",
       "1  Sales Manager  "
      ]
     },
     "execution_count": 44,
     "metadata": {},
     "output_type": "execute_result"
    }
   ],
   "source": [
    "# 1. TODO: Rename the \"id\" column to reflect the entity as it will serve as the business key for lookup operations\n",
    "df_suppliers.rename(columns={\"id\":\"supplier_id\"}, inplace=True)\n",
    "\n",
    "# 2. TODO: Insert a new column, with an ever-incrementing numeric value, to serve as the primary key.\n",
    "df_suppliers.insert(0, \"supplier_key\", range(1, df_suppliers.shape[0]+1))\n",
    "df_suppliers.head(2)"
   ]
  },
  {
   "cell_type": "markdown",
   "id": "2bd16f44",
   "metadata": {},
   "source": [
    "#### 1.3. Load the Transformed DataFrames into the New Data Warehouse by Creating New Tables\n",
    "\n",
    "Here we will call our **set_dataframe( )** function to create each dimension table. This function expects a number of parameters including the usual connection information (e.g., user_id, password, MySQL server name and database), the *table_name* we need to assign to the table, the *pandas DataFrame* we crafted to define & populate the table, the *name* of the column we wish to designate as the *primary_key* column, and finally, the database operation (insert or update). "
   ]
  },
  {
   "cell_type": "code",
   "execution_count": 45,
   "id": "28460874",
   "metadata": {},
   "outputs": [],
   "source": [
    "dataframe = df_invoices\n",
    "table_name = 'dim_invoices'\n",
    "primary_key = 'invoice_key'\n",
    "db_operation = \"insert\"\n",
    "\n",
    "set_dataframe(dataframe, table_name, primary_key, db_operation, **mysql_args)"
   ]
  },
  {
   "cell_type": "code",
   "execution_count": 46,
   "id": "6c5d4291",
   "metadata": {},
   "outputs": [],
   "source": [
    "# TODO: Upload the \"Suppliers\" dataframe to create the new \"dim_suppliers\" dimension table\n",
    "dataframe = df_suppliers\n",
    "table_name = 'dim_suppliers'\n",
    "primary_key = 'supplier_key'\n",
    "db_operation = \"insert\"\n",
    "\n",
    "set_dataframe(dataframe, table_name, primary_key, db_operation, **mysql_args)"
   ]
  },
  {
   "cell_type": "markdown",
   "id": "c2411d8e",
   "metadata": {},
   "source": [
    "#### 1.4. Validate that the New Dimension Tables were Created."
   ]
  },
  {
   "cell_type": "code",
   "execution_count": 47,
   "id": "b4e5737a",
   "metadata": {},
   "outputs": [
    {
     "data": {
      "text/html": [
       "<div>\n",
       "<style scoped>\n",
       "    .dataframe tbody tr th:only-of-type {\n",
       "        vertical-align: middle;\n",
       "    }\n",
       "\n",
       "    .dataframe tbody tr th {\n",
       "        vertical-align: top;\n",
       "    }\n",
       "\n",
       "    .dataframe thead th {\n",
       "        text-align: right;\n",
       "    }\n",
       "</style>\n",
       "<table border=\"1\" class=\"dataframe\">\n",
       "  <thead>\n",
       "    <tr style=\"text-align: right;\">\n",
       "      <th></th>\n",
       "      <th>invoice_key</th>\n",
       "      <th>invoice_id</th>\n",
       "      <th>order_id</th>\n",
       "      <th>tax</th>\n",
       "      <th>shipping</th>\n",
       "      <th>amount_due</th>\n",
       "      <th>invoice_date_key</th>\n",
       "    </tr>\n",
       "  </thead>\n",
       "  <tbody>\n",
       "    <tr>\n",
       "      <th>0</th>\n",
       "      <td>1</td>\n",
       "      <td>5</td>\n",
       "      <td>31</td>\n",
       "      <td>0.0</td>\n",
       "      <td>0.0</td>\n",
       "      <td>0.0</td>\n",
       "      <td>20060322</td>\n",
       "    </tr>\n",
       "    <tr>\n",
       "      <th>1</th>\n",
       "      <td>2</td>\n",
       "      <td>6</td>\n",
       "      <td>32</td>\n",
       "      <td>0.0</td>\n",
       "      <td>0.0</td>\n",
       "      <td>0.0</td>\n",
       "      <td>20060322</td>\n",
       "    </tr>\n",
       "  </tbody>\n",
       "</table>\n",
       "</div>"
      ],
      "text/plain": [
       "   invoice_key  invoice_id  order_id  tax  shipping  amount_due  \\\n",
       "0            1           5        31  0.0       0.0         0.0   \n",
       "1            2           6        32  0.0       0.0         0.0   \n",
       "\n",
       "   invoice_date_key  \n",
       "0          20060322  \n",
       "1          20060322  "
      ]
     },
     "execution_count": 47,
     "metadata": {},
     "output_type": "execute_result"
    }
   ],
   "source": [
    "sql_invoices = \"SELECT * FROM northwind_dw2.dim_invoices;\"\n",
    "df_dim_invoices = get_sql_dataframe(sql_invoices, **mysql_args)\n",
    "df_dim_invoices.head(2)"
   ]
  },
  {
   "cell_type": "code",
   "execution_count": 48,
   "id": "4e4ed928",
   "metadata": {},
   "outputs": [
    {
     "data": {
      "text/html": [
       "<div>\n",
       "<style scoped>\n",
       "    .dataframe tbody tr th:only-of-type {\n",
       "        vertical-align: middle;\n",
       "    }\n",
       "\n",
       "    .dataframe tbody tr th {\n",
       "        vertical-align: top;\n",
       "    }\n",
       "\n",
       "    .dataframe thead th {\n",
       "        text-align: right;\n",
       "    }\n",
       "</style>\n",
       "<table border=\"1\" class=\"dataframe\">\n",
       "  <thead>\n",
       "    <tr style=\"text-align: right;\">\n",
       "      <th></th>\n",
       "      <th>supplier_key</th>\n",
       "      <th>supplier_id</th>\n",
       "      <th>company</th>\n",
       "      <th>last_name</th>\n",
       "      <th>first_name</th>\n",
       "      <th>job_title</th>\n",
       "    </tr>\n",
       "  </thead>\n",
       "  <tbody>\n",
       "    <tr>\n",
       "      <th>0</th>\n",
       "      <td>1</td>\n",
       "      <td>1</td>\n",
       "      <td>Supplier A</td>\n",
       "      <td>Andersen</td>\n",
       "      <td>Elizabeth A.</td>\n",
       "      <td>Sales Manager</td>\n",
       "    </tr>\n",
       "    <tr>\n",
       "      <th>1</th>\n",
       "      <td>2</td>\n",
       "      <td>2</td>\n",
       "      <td>Supplier B</td>\n",
       "      <td>Weiler</td>\n",
       "      <td>Cornelia</td>\n",
       "      <td>Sales Manager</td>\n",
       "    </tr>\n",
       "  </tbody>\n",
       "</table>\n",
       "</div>"
      ],
      "text/plain": [
       "   supplier_key  supplier_id     company last_name    first_name  \\\n",
       "0             1            1  Supplier A  Andersen  Elizabeth A.   \n",
       "1             2            2  Supplier B    Weiler      Cornelia   \n",
       "\n",
       "       job_title  \n",
       "0  Sales Manager  \n",
       "1  Sales Manager  "
      ]
     },
     "execution_count": 48,
     "metadata": {},
     "output_type": "execute_result"
    }
   ],
   "source": [
    "# TODO: Validate the new \"dim_suppliers\" table in the northwind_dw2 data warehouse.\n",
    "sql_suppliers = \"SELECT * FROM northwind_dw2.dim_suppliers;\"\n",
    "df_dim_suppliers = get_sql_dataframe(sql_suppliers, **mysql_args)\n",
    "df_dim_suppliers.head(2)"
   ]
  },
  {
   "cell_type": "markdown",
   "id": "b015eb8e",
   "metadata": {},
   "source": [
    "### 2.0. Create and Populate the New Fact Tables\n",
    "#### 2.1. Extract Data from the Source MongoDB Collections Into DataFrames"
   ]
  },
  {
   "cell_type": "code",
   "execution_count": 49,
   "id": "3d73c1f4",
   "metadata": {},
   "outputs": [
    {
     "data": {
      "text/html": [
       "<div>\n",
       "<style scoped>\n",
       "    .dataframe tbody tr th:only-of-type {\n",
       "        vertical-align: middle;\n",
       "    }\n",
       "\n",
       "    .dataframe tbody tr th {\n",
       "        vertical-align: top;\n",
       "    }\n",
       "\n",
       "    .dataframe thead th {\n",
       "        text-align: right;\n",
       "    }\n",
       "</style>\n",
       "<table border=\"1\" class=\"dataframe\">\n",
       "  <thead>\n",
       "    <tr style=\"text-align: right;\">\n",
       "      <th></th>\n",
       "      <th>purchase_order_id</th>\n",
       "      <th>supplier_id</th>\n",
       "      <th>po_detail_product_id</th>\n",
       "      <th>po_detail_inventory_id</th>\n",
       "      <th>created_by</th>\n",
       "      <th>submitted_date</th>\n",
       "      <th>creation_date</th>\n",
       "      <th>po_detail_date_received</th>\n",
       "      <th>purchase_order_status</th>\n",
       "      <th>po_detail_posted_to_inventory</th>\n",
       "      <th>po_detail_unit_cost</th>\n",
       "      <th>po_detail_quantity</th>\n",
       "      <th>shipping_fee</th>\n",
       "      <th>taxes</th>\n",
       "      <th>payment_date</th>\n",
       "      <th>payment_amount</th>\n",
       "      <th>approved_by</th>\n",
       "      <th>approved_date</th>\n",
       "      <th>submitted_by</th>\n",
       "    </tr>\n",
       "  </thead>\n",
       "  <tbody>\n",
       "    <tr>\n",
       "      <th>0</th>\n",
       "      <td>90</td>\n",
       "      <td>1</td>\n",
       "      <td>1</td>\n",
       "      <td>59.0</td>\n",
       "      <td>2.0</td>\n",
       "      <td>2006-01-14 00:00:00</td>\n",
       "      <td>2006-01-22 00:00:00</td>\n",
       "      <td>2006-01-22 00:00:00</td>\n",
       "      <td>Approved</td>\n",
       "      <td>1</td>\n",
       "      <td>14.0</td>\n",
       "      <td>40.0</td>\n",
       "      <td>0.0</td>\n",
       "      <td>0.0</td>\n",
       "      <td>None</td>\n",
       "      <td>0.0</td>\n",
       "      <td>2.0</td>\n",
       "      <td>2006-01-22 00:00:00</td>\n",
       "      <td>2</td>\n",
       "    </tr>\n",
       "    <tr>\n",
       "      <th>1</th>\n",
       "      <td>90</td>\n",
       "      <td>1</td>\n",
       "      <td>34</td>\n",
       "      <td>60.0</td>\n",
       "      <td>2.0</td>\n",
       "      <td>2006-01-14 00:00:00</td>\n",
       "      <td>2006-01-22 00:00:00</td>\n",
       "      <td>2006-01-22 00:00:00</td>\n",
       "      <td>Approved</td>\n",
       "      <td>1</td>\n",
       "      <td>10.0</td>\n",
       "      <td>60.0</td>\n",
       "      <td>0.0</td>\n",
       "      <td>0.0</td>\n",
       "      <td>None</td>\n",
       "      <td>0.0</td>\n",
       "      <td>2.0</td>\n",
       "      <td>2006-01-22 00:00:00</td>\n",
       "      <td>2</td>\n",
       "    </tr>\n",
       "  </tbody>\n",
       "</table>\n",
       "</div>"
      ],
      "text/plain": [
       "   purchase_order_id  supplier_id  po_detail_product_id  \\\n",
       "0                 90            1                     1   \n",
       "1                 90            1                    34   \n",
       "\n",
       "   po_detail_inventory_id  created_by       submitted_date  \\\n",
       "0                    59.0         2.0  2006-01-14 00:00:00   \n",
       "1                    60.0         2.0  2006-01-14 00:00:00   \n",
       "\n",
       "         creation_date po_detail_date_received purchase_order_status  \\\n",
       "0  2006-01-22 00:00:00     2006-01-22 00:00:00              Approved   \n",
       "1  2006-01-22 00:00:00     2006-01-22 00:00:00              Approved   \n",
       "\n",
       "   po_detail_posted_to_inventory  po_detail_unit_cost  po_detail_quantity  \\\n",
       "0                              1                 14.0                40.0   \n",
       "1                              1                 10.0                60.0   \n",
       "\n",
       "   shipping_fee  taxes payment_date  payment_amount  approved_by  \\\n",
       "0           0.0    0.0         None             0.0          2.0   \n",
       "1           0.0    0.0         None             0.0          2.0   \n",
       "\n",
       "         approved_date  submitted_by  \n",
       "0  2006-01-22 00:00:00             2  \n",
       "1  2006-01-22 00:00:00             2  "
      ]
     },
     "execution_count": 49,
     "metadata": {},
     "output_type": "execute_result"
    }
   ],
   "source": [
    "client = get_mongo_client(**mongodb_args)\n",
    "\n",
    "query = {} # Select all elements (columns), and all documents (rows).\n",
    "collection = \"purchase_orders\"\n",
    "\n",
    "df_fact_pos = get_mongo_dataframe(client, mongodb_args[\"db_name\"], collection, query)\n",
    "df_fact_pos.head(2)"
   ]
  },
  {
   "cell_type": "code",
   "execution_count": 50,
   "id": "a9c5e338",
   "metadata": {
    "scrolled": true
   },
   "outputs": [
    {
     "data": {
      "text/html": [
       "<div>\n",
       "<style scoped>\n",
       "    .dataframe tbody tr th:only-of-type {\n",
       "        vertical-align: middle;\n",
       "    }\n",
       "\n",
       "    .dataframe tbody tr th {\n",
       "        vertical-align: top;\n",
       "    }\n",
       "\n",
       "    .dataframe thead th {\n",
       "        text-align: right;\n",
       "    }\n",
       "</style>\n",
       "<table border=\"1\" class=\"dataframe\">\n",
       "  <thead>\n",
       "    <tr style=\"text-align: right;\">\n",
       "      <th></th>\n",
       "      <th>inventory_transaction_id</th>\n",
       "      <th>inventory_transaction_type</th>\n",
       "      <th>transaction_created_date</th>\n",
       "      <th>transaction_modified_date</th>\n",
       "      <th>product_id</th>\n",
       "      <th>quantity</th>\n",
       "      <th>purchase_order_id</th>\n",
       "      <th>customer_order_id</th>\n",
       "    </tr>\n",
       "  </thead>\n",
       "  <tbody>\n",
       "    <tr>\n",
       "      <th>0</th>\n",
       "      <td>35</td>\n",
       "      <td>Purchased</td>\n",
       "      <td>2006-03-22 16:02:28</td>\n",
       "      <td>2006-03-22 16:02:28</td>\n",
       "      <td>80</td>\n",
       "      <td>75</td>\n",
       "      <td>None</td>\n",
       "      <td>None</td>\n",
       "    </tr>\n",
       "    <tr>\n",
       "      <th>1</th>\n",
       "      <td>36</td>\n",
       "      <td>Purchased</td>\n",
       "      <td>2006-03-22 16:02:48</td>\n",
       "      <td>2006-03-22 16:02:48</td>\n",
       "      <td>72</td>\n",
       "      <td>40</td>\n",
       "      <td>None</td>\n",
       "      <td>None</td>\n",
       "    </tr>\n",
       "  </tbody>\n",
       "</table>\n",
       "</div>"
      ],
      "text/plain": [
       "   inventory_transaction_id inventory_transaction_type  \\\n",
       "0                        35                  Purchased   \n",
       "1                        36                  Purchased   \n",
       "\n",
       "  transaction_created_date transaction_modified_date  product_id  quantity  \\\n",
       "0      2006-03-22 16:02:28       2006-03-22 16:02:28          80        75   \n",
       "1      2006-03-22 16:02:48       2006-03-22 16:02:48          72        40   \n",
       "\n",
       "  purchase_order_id customer_order_id  \n",
       "0              None              None  \n",
       "1              None              None  "
      ]
     },
     "execution_count": 50,
     "metadata": {},
     "output_type": "execute_result"
    }
   ],
   "source": [
    "# TODO: Extract data for your new \"Inventory Transactions\" Fact Table\n",
    "client = get_mongo_client(**mongodb_args)\n",
    "\n",
    "query = {} # Select all elements (columns), and all documents (rows).\n",
    "collection = \"inventory_transactions\"\n",
    "\n",
    "df_fact_its = get_mongo_dataframe(client, mongodb_args[\"db_name\"], collection, query)\n",
    "df_fact_its.head(2)"
   ]
  },
  {
   "cell_type": "markdown",
   "id": "637a44de",
   "metadata": {},
   "source": [
    "#### 2.2. Lookup the DateKeys from the Date Dimension Table.\n",
    "**2.2.1.** For each date typed column in the **purchase orders** fact table, lookup the corresponding Surrogate Primary Key column. Be certain to cast the date typed column to the **datetime64[ns]** data type using the **.astype()** function that is native to Pandas DataFrame columns. Also, extract the **date** portion using the **.dt.date** attribute of the **datetime64[ns]** datatype."
   ]
  },
  {
   "cell_type": "code",
   "execution_count": 51,
   "id": "f27a5f68",
   "metadata": {},
   "outputs": [
    {
     "data": {
      "text/html": [
       "<div>\n",
       "<style scoped>\n",
       "    .dataframe tbody tr th:only-of-type {\n",
       "        vertical-align: middle;\n",
       "    }\n",
       "\n",
       "    .dataframe tbody tr th {\n",
       "        vertical-align: top;\n",
       "    }\n",
       "\n",
       "    .dataframe thead th {\n",
       "        text-align: right;\n",
       "    }\n",
       "</style>\n",
       "<table border=\"1\" class=\"dataframe\">\n",
       "  <thead>\n",
       "    <tr style=\"text-align: right;\">\n",
       "      <th></th>\n",
       "      <th>purchase_order_id</th>\n",
       "      <th>supplier_id</th>\n",
       "      <th>po_detail_product_id</th>\n",
       "      <th>po_detail_inventory_id</th>\n",
       "      <th>created_by</th>\n",
       "      <th>creation_date</th>\n",
       "      <th>po_detail_date_received</th>\n",
       "      <th>purchase_order_status</th>\n",
       "      <th>po_detail_posted_to_inventory</th>\n",
       "      <th>po_detail_unit_cost</th>\n",
       "      <th>po_detail_quantity</th>\n",
       "      <th>shipping_fee</th>\n",
       "      <th>taxes</th>\n",
       "      <th>payment_date</th>\n",
       "      <th>payment_amount</th>\n",
       "      <th>approved_by</th>\n",
       "      <th>approved_date</th>\n",
       "      <th>submitted_by</th>\n",
       "      <th>submitted_date_key</th>\n",
       "    </tr>\n",
       "  </thead>\n",
       "  <tbody>\n",
       "    <tr>\n",
       "      <th>0</th>\n",
       "      <td>90</td>\n",
       "      <td>1</td>\n",
       "      <td>1</td>\n",
       "      <td>59.0</td>\n",
       "      <td>2.0</td>\n",
       "      <td>2006-01-22 00:00:00</td>\n",
       "      <td>2006-01-22 00:00:00</td>\n",
       "      <td>Approved</td>\n",
       "      <td>1</td>\n",
       "      <td>14.0</td>\n",
       "      <td>40.0</td>\n",
       "      <td>0.0</td>\n",
       "      <td>0.0</td>\n",
       "      <td>None</td>\n",
       "      <td>0.0</td>\n",
       "      <td>2.0</td>\n",
       "      <td>2006-01-22 00:00:00</td>\n",
       "      <td>2</td>\n",
       "      <td>20060114</td>\n",
       "    </tr>\n",
       "    <tr>\n",
       "      <th>1</th>\n",
       "      <td>90</td>\n",
       "      <td>1</td>\n",
       "      <td>34</td>\n",
       "      <td>60.0</td>\n",
       "      <td>2.0</td>\n",
       "      <td>2006-01-22 00:00:00</td>\n",
       "      <td>2006-01-22 00:00:00</td>\n",
       "      <td>Approved</td>\n",
       "      <td>1</td>\n",
       "      <td>10.0</td>\n",
       "      <td>60.0</td>\n",
       "      <td>0.0</td>\n",
       "      <td>0.0</td>\n",
       "      <td>None</td>\n",
       "      <td>0.0</td>\n",
       "      <td>2.0</td>\n",
       "      <td>2006-01-22 00:00:00</td>\n",
       "      <td>2</td>\n",
       "      <td>20060114</td>\n",
       "    </tr>\n",
       "  </tbody>\n",
       "</table>\n",
       "</div>"
      ],
      "text/plain": [
       "   purchase_order_id  supplier_id  po_detail_product_id  \\\n",
       "0                 90            1                     1   \n",
       "1                 90            1                    34   \n",
       "\n",
       "   po_detail_inventory_id  created_by        creation_date  \\\n",
       "0                    59.0         2.0  2006-01-22 00:00:00   \n",
       "1                    60.0         2.0  2006-01-22 00:00:00   \n",
       "\n",
       "  po_detail_date_received purchase_order_status  \\\n",
       "0     2006-01-22 00:00:00              Approved   \n",
       "1     2006-01-22 00:00:00              Approved   \n",
       "\n",
       "   po_detail_posted_to_inventory  po_detail_unit_cost  po_detail_quantity  \\\n",
       "0                              1                 14.0                40.0   \n",
       "1                              1                 10.0                60.0   \n",
       "\n",
       "   shipping_fee  taxes payment_date  payment_amount  approved_by  \\\n",
       "0           0.0    0.0         None             0.0          2.0   \n",
       "1           0.0    0.0         None             0.0          2.0   \n",
       "\n",
       "         approved_date  submitted_by  submitted_date_key  \n",
       "0  2006-01-22 00:00:00             2            20060114  \n",
       "1  2006-01-22 00:00:00             2            20060114  "
      ]
     },
     "execution_count": 51,
     "metadata": {},
     "output_type": "execute_result"
    }
   ],
   "source": [
    "# Lookup the Surrogate Primary Key (date_key) that Corresponds to the \"submitted_date\" Column.\n",
    "df_dim_submitted_date = df_dim_date.rename(columns={\"date_key\" : \"submitted_date_key\", \"full_date\" : \"submitted_date\"})\n",
    "df_fact_pos.submitted_date = df_fact_pos.submitted_date.astype('datetime64[ns]').dt.date\n",
    "df_fact_pos = pd.merge(df_fact_pos, df_dim_submitted_date, on='submitted_date', how='left')\n",
    "df_fact_pos.drop(['submitted_date'], axis=1, inplace=True)\n",
    "df_fact_pos.head(2)"
   ]
  },
  {
   "cell_type": "code",
   "execution_count": null,
   "id": "cf261cd4",
   "metadata": {},
   "outputs": [],
   "source": [
    "# TODO: Lookup the Primary Key (date_key) that Corresponds to the \"creation_date\" Column."
   ]
  },
  {
   "cell_type": "code",
   "execution_count": null,
   "id": "71b34ef1",
   "metadata": {},
   "outputs": [],
   "source": [
    "# TODO: Lookup the Primary Key (date_key) that Corresponds to the \"po_detail_date_received\" Column."
   ]
  },
  {
   "cell_type": "code",
   "execution_count": null,
   "id": "d3f436d6",
   "metadata": {},
   "outputs": [],
   "source": [
    "# TODO: Lookup the Primary Key (date_key) that Corresponds to the \"approved_date\" Column."
   ]
  },
  {
   "cell_type": "markdown",
   "id": "b0525b9e",
   "metadata": {},
   "source": [
    "**2.2.2.** Then, for each date typed column in the **inventory transaction** fact table, lookup the corresponding Surrogate Primary Key column. Be certain to cast the date typed column to the **datetime64[ns]** data type using the **.astype()** function, and extract the **date** portion using the **.dt.date** attribute of the **datetime64[ns]** datatype."
   ]
  },
  {
   "cell_type": "code",
   "execution_count": null,
   "id": "863ac310",
   "metadata": {},
   "outputs": [],
   "source": [
    "# TODO: Lookup the Primary Key (date_key) that Corresponds to the \"transaction_created_date\" Column.\n",
    "\n",
    "df_fact_inventory.head(2)"
   ]
  },
  {
   "cell_type": "code",
   "execution_count": null,
   "id": "896afa60",
   "metadata": {},
   "outputs": [],
   "source": [
    "# TODO: Lookup the Primary Key (date_key) that Corresponds to the \"transaction_modified_date\" Column.\n",
    "\n",
    "df_fact_inventory.head(2)"
   ]
  },
  {
   "cell_type": "markdown",
   "id": "8ece03fd",
   "metadata": {},
   "source": [
    "#### 2.3. Lookup the Primary Keys from the Dimension Tables\n",
    "**Foreign key relationships** must be established between each newly-crafted **Fact table** and each related **Dimension table**.\n",
    "\n",
    "##### 2.3.1. First, fetch the Surrogate Primary Key and the Business Key from each Dimension table."
   ]
  },
  {
   "cell_type": "code",
   "execution_count": null,
   "id": "6ebb1b11",
   "metadata": {},
   "outputs": [],
   "source": [
    "sql_dim_invoices = \"SELECT invoice_key, invoice_id FROM northwind_dw2.dim_invoices;\"\n",
    "df_dim_invoices = get_sql_dataframe(sql_dim_invoices, **mysql_args)\n",
    "df_dim_invoices.head(2)"
   ]
  },
  {
   "cell_type": "code",
   "execution_count": null,
   "id": "8512c5ba",
   "metadata": {},
   "outputs": [],
   "source": [
    "# TODO: Extract the 'primary key' and the 'business key' from your new \"dim_suppliers\" dimension table"
   ]
  },
  {
   "cell_type": "code",
   "execution_count": null,
   "id": "41f1a264",
   "metadata": {},
   "outputs": [],
   "source": [
    "# TODO: Extract the 'primary key' and the 'business key' from the \"dim_employees\" dimension table"
   ]
  },
  {
   "cell_type": "code",
   "execution_count": null,
   "id": "c0f2791a",
   "metadata": {},
   "outputs": [],
   "source": [
    "# TODO: Extract the 'primary key' and the 'business key' from the \"dim_products\" dimension table"
   ]
  },
  {
   "cell_type": "markdown",
   "id": "8a16c4d7",
   "metadata": {},
   "source": [
    "##### 2.3.2. Next, use Business Keys to lookup corresponding Surrogate Primary Keys in the Dimension tables\n",
    "**2.3.2.1. Inventory Fact table.**  The inventory fact table contains a reference to the *dim_products* table by way of the *product_id* column that enables us to lookup the corresponding *product_key*."
   ]
  },
  {
   "cell_type": "code",
   "execution_count": null,
   "id": "4c14f704",
   "metadata": {},
   "outputs": [],
   "source": [
    "# TODO: Merge the \"fact_inventory\" and \"dim_products\" dataframes on the 'product_id' to\n",
    "# get the 'product_key'. Then drop the 'product_id' column and display the results."
   ]
  },
  {
   "cell_type": "code",
   "execution_count": null,
   "id": "81cf5921",
   "metadata": {},
   "outputs": [],
   "source": [
    "# TODO: Insert a new 'fact_inventory_transaction_key' column, with an ever-incrementing\n",
    "# numeric value, to serve as the surrogate primary key. Then display the results."
   ]
  },
  {
   "cell_type": "markdown",
   "id": "630e65e4",
   "metadata": {},
   "source": [
    "**2.3.2.2. Purchase Order Fact table**. Here we see another example of a **role-playing dimension**; the *Employee* dimension. The employee dimension is another classic example of a Role-Playing dimension. In-and-of themselves Employees are generic; however, when applied to specific roles they take on the identity of those positions (roles). Here, the *dim_employee* table takes on the identities of *creator, approver, and submitter* in supplying employee keys to the *dim_fact_pos* table.\n",
    "\n",
    "We also see an example of where one fact table is referenced by another fact table as if it were a dimension table; i.e., a **fact dimension.** In this instance the purchase orders table *fact_pos* contains a reference to the inventory transaction table *fact_inventory* by way of the *inventory_transaction_id* column, enabling us to lookup the corresponding *fact_inventory_key*."
   ]
  },
  {
   "cell_type": "code",
   "execution_count": null,
   "id": "02bc2c0e",
   "metadata": {},
   "outputs": [],
   "source": [
    "# Lookup the Surrogate Primary Key (employee_key) that Corresponds to the \"created_by\" Column.\n",
    "df_dim_creator = df_dim_employees.rename(columns={\"employee_key\":\"created_by_key\", \"employee_id\":\"created_by\"})\n",
    "df_fact_pos = pd.merge(df_fact_pos, df_dim_creator, on='created_by', how='inner')\n",
    "df_fact_pos.drop(['created_by'], axis=1, inplace=True)\n",
    "df_fact_pos.head(2)"
   ]
  },
  {
   "cell_type": "code",
   "execution_count": null,
   "id": "82f86ebc",
   "metadata": {},
   "outputs": [],
   "source": [
    "# TODO: Lookup the Surrogate Primary Key (employee_key) that Corresponds to the \"approved_by\" Column."
   ]
  },
  {
   "cell_type": "code",
   "execution_count": null,
   "id": "c6ac5312",
   "metadata": {},
   "outputs": [],
   "source": [
    "# TODO: Lookup the Surrogate Primary Key (employee_key) that Corresponds to the \"submitted_by\" Column."
   ]
  },
  {
   "cell_type": "markdown",
   "id": "96b16a1d",
   "metadata": {},
   "source": [
    "Since the *df_fact_pos* fact table contains references to suppliers and products, lookup the surrogate primary keys from the *dim_suppliers* and *dim_products* tables that correspond to the *supplier_id* and *product_id* columns."
   ]
  },
  {
   "cell_type": "code",
   "execution_count": null,
   "id": "e340cbc7",
   "metadata": {},
   "outputs": [],
   "source": [
    "# TODO: Lookup the Surrogate Primary Key (supplier_key) that Corresponds to the \"supplier_id\" Column."
   ]
  },
  {
   "cell_type": "code",
   "execution_count": null,
   "id": "1317caf4",
   "metadata": {},
   "outputs": [],
   "source": [
    "# TODO: Lookup the Primary Key (product_key) that Corresponds to the \"po_detail_product_id\" Column.\n",
    "# Remember that you'll first have to rename it to \"product_id\" in the \"df_fact_pos\" dataframe."
   ]
  },
  {
   "cell_type": "code",
   "execution_count": null,
   "id": "930ac1c7",
   "metadata": {},
   "outputs": [],
   "source": [
    "# TODO: Insert a new \"fact_purchase_order_key\" column, with an ever-incrementing \n",
    "# numeric value, to serve as the surrogate primary key. Then display the results."
   ]
  },
  {
   "cell_type": "markdown",
   "id": "79b0a022",
   "metadata": {},
   "source": [
    "Since the purchase orders table *fact_pos* contains a reference to the inventory transaction table *fact_inventory* by way of the *inventory_transaction_id* column, we can lookup the corresponding *fact_inventory_transaction_key*. In this case, the *fact_inventory* table plays the role of a dimension table. This is called a **fact dimension**."
   ]
  },
  {
   "cell_type": "code",
   "execution_count": null,
   "id": "1f1e4681",
   "metadata": {},
   "outputs": [],
   "source": [
    "# The inventory fact table acts as a Fact Dimension: po_detail_inventory_id\n",
    "df_dim_fact_inventory = df_fact_inventory[['fact_inventory_transaction_key','inventory_transaction_id']]\n",
    "df_fact_pos.rename(columns={\"po_detail_inventory_id\":\"inventory_transaction_id\"}, inplace=True)\n",
    "df_fact_pos = pd.merge(df_fact_pos, df_dim_fact_inventory, on='inventory_transaction_id', how='left')\n",
    "df_fact_pos.drop(['inventory_transaction_id'], axis=1, inplace=True)\n",
    "df_fact_pos.head(2)"
   ]
  },
  {
   "cell_type": "markdown",
   "id": "d53ef721",
   "metadata": {},
   "source": [
    "#### 2.4. Perform Any Necessary Transformations to the DataFrames"
   ]
  },
  {
   "cell_type": "code",
   "execution_count": null,
   "id": "f5312f33",
   "metadata": {},
   "outputs": [],
   "source": [
    "# Rename the Foreign Key Columns\n",
    "column_name_map = {\"transaction_created_date_key\" : \"created_date_key\",\n",
    "                   \"transaction_modified_date_key\" : \"modified_date_key\",\n",
    "                  }\n",
    "\n",
    "df_fact_inventory.rename(columns=column_name_map, inplace=True)\n",
    "\n",
    "# Reorder the Columns\n",
    "ordered_columns = ['fact_inventory_transaction_key','inventory_transaction_id'\n",
    "                   ,'inventory_transaction_type','product_key'\n",
    "                   ,'created_date_key','modified_date_key','quantity']\n",
    "\n",
    "df_fact_inventory = df_fact_inventory[ordered_columns]\n",
    "df_fact_inventory.head(2)"
   ]
  },
  {
   "cell_type": "code",
   "execution_count": null,
   "id": "977189aa",
   "metadata": {},
   "outputs": [],
   "source": [
    "# Change the 'po_detail_posted_to_inventory' column values from 1 and 0 to 'True' and 'False'.\n",
    "df_fact_pos['posted_to_inventory'] = df_fact_pos.po_detail_posted_to_inventory.map({1 :'True', 0 :'False'})\n",
    "df_fact_pos.drop('po_detail_posted_to_inventory', axis=1, inplace=True)\n",
    "df_fact_pos.rename(columns={'posted_to_inventory' : 'po_detail_posted_to_inventory'}, inplace=True)\n",
    "\n",
    "# Reorder the Columns\n",
    "reordered_columns = ['fact_purchase_order_key','purchase_order_id','supplier_key','product_key'\n",
    "                     ,'fact_inventory_transaction_key','created_by_key','creation_date_key'\n",
    "                     ,'submitted_by_key','submitted_date_key','approved_by_key','approved_date_key'\n",
    "                     ,'purchase_order_status','po_detail_date_received_key'\n",
    "                     ,'po_detail_posted_to_inventory','po_detail_unit_cost','po_detail_quantity'\n",
    "                     ,'shipping_fee','taxes','payment_date','payment_amount']\n",
    "\n",
    "df_fact_pos = df_fact_pos[reordered_columns]\n",
    "df_fact_pos.head(2)"
   ]
  },
  {
   "cell_type": "markdown",
   "id": "3f7a226d",
   "metadata": {},
   "source": [
    "#### 2.5. Load Newly Transformed MongoDB Data into the Northwind_DW2 Data Warehouse"
   ]
  },
  {
   "cell_type": "code",
   "execution_count": null,
   "id": "cbfe8e62",
   "metadata": {},
   "outputs": [],
   "source": [
    "dataframe = df_fact_pos\n",
    "table_name = 'fact_purchase_orders'\n",
    "primary_key = 'fact_purchase_order_key'\n",
    "db_operation = \"insert\"\n",
    "\n",
    "set_dataframe(dataframe, table_name, primary_key, db_operation, **mysql_args)"
   ]
  },
  {
   "cell_type": "code",
   "execution_count": null,
   "id": "caf15520",
   "metadata": {},
   "outputs": [],
   "source": [
    "# TODO: Upload the \"Inventory Transaction\" dataframe to create the new \"fact_inventory_transactions\" fact table. "
   ]
  },
  {
   "cell_type": "markdown",
   "id": "4c58a3d2",
   "metadata": {},
   "source": [
    "#### 2.6. Validate that the New Fact Tables were Created"
   ]
  },
  {
   "cell_type": "code",
   "execution_count": null,
   "id": "962a5636",
   "metadata": {},
   "outputs": [],
   "source": [
    "# TODO: Validate the correctness of the new \"Purchase Orders\" fact table."
   ]
  },
  {
   "cell_type": "code",
   "execution_count": null,
   "id": "f48a84cd",
   "metadata": {},
   "outputs": [],
   "source": [
    "# TODO: Validate the correctness of the new \"Inventory Transactions\" fact table."
   ]
  },
  {
   "cell_type": "markdown",
   "id": "a19d09f3",
   "metadata": {},
   "source": [
    "### 3.0. Demonstrate that the New Data Warehouse Exists and Contains the Correct Data\n",
    "To demonstrate the viability of your solution, author a SQL SELECT statement that returns:\n",
    "- Each Company’s Name\n",
    "- The total amount of the purchase order detail quantity associated with each company\n",
    "- The total amount of the purchase order detail unit cost associated with each company\n",
    "\n",
    "**NOTE:** *Remember that a string typed variable whose value is contained by triple-quotes (\"\"\" ... \"\"\") can preserve multi-line formatting, and that a string variable has an intrinsic **.format()** function that accepts ordered parameters that will replace tokens (e.g., {0}) in the formatted string.*  "
   ]
  },
  {
   "cell_type": "code",
   "execution_count": null,
   "id": "2cd46161",
   "metadata": {},
   "outputs": [],
   "source": [
    "sql_purchase_orders = \"\"\"\n",
    "    \n",
    "\"\"\""
   ]
  },
  {
   "cell_type": "code",
   "execution_count": null,
   "id": "a50dfbac",
   "metadata": {},
   "outputs": [],
   "source": [
    "df_fact_purchase_orders = get_sql_dataframe(sql_purchase_orders, **mysql_args)\n",
    "df_fact_purchase_orders"
   ]
  },
  {
   "cell_type": "markdown",
   "id": "895795cb",
   "metadata": {},
   "source": [
    "### 3.1 Extra Credit: Author a Query that Returns the Inventory Transaction Data\n",
    "- Each Product Category\n",
    "- Each TransactionType\n",
    "- The total number of transactions associated with each Product Category and Transaction Type\n",
    "- The total amount (quantity) associated with each Product Category and Transaction Type"
   ]
  },
  {
   "cell_type": "code",
   "execution_count": null,
   "id": "25b9b035",
   "metadata": {},
   "outputs": [],
   "source": [
    "sql_inventory_transactions = \"\"\"\n",
    "\n",
    "\"\"\""
   ]
  },
  {
   "cell_type": "code",
   "execution_count": null,
   "id": "6b070189",
   "metadata": {},
   "outputs": [],
   "source": [
    "df_fact_inventory_transactions = get_sql_dataframe(sql_inventory_transactions, **mysql_args)\n",
    "df_fact_inventory_transactions"
   ]
  }
 ],
 "metadata": {
  "kernelspec": {
   "display_name": "Python 3",
   "language": "python",
   "name": "python3"
  },
  "language_info": {
   "codemirror_mode": {
    "name": "ipython",
    "version": 3
   },
   "file_extension": ".py",
   "mimetype": "text/x-python",
   "name": "python",
   "nbconvert_exporter": "python",
   "pygments_lexer": "ipython3",
   "version": "3.10.2"
  }
 },
 "nbformat": 4,
 "nbformat_minor": 5
}
